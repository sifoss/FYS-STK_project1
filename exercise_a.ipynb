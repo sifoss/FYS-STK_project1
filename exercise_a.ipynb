{
 "cells": [
  {
   "cell_type": "code",
   "execution_count": 1,
   "metadata": {},
   "outputs": [],
   "source": [
    "import numpy as np, matplotlib.pyplot as plt\n",
    "from Reg_class import Polyfit, train_test_split, FrankeFunction, DesignMatrix\n",
    "\n",
    "n = 50\n",
    "p = 5\n",
    "P = (p+1)**2\n",
    "x = np.sort(np.random.rand(n))\n",
    "y = np.sort(np.random.rand(n))\n",
    "\n",
    "x, y = np.meshgrid(x, y)\n",
    "\n",
    "noise = 0.1*np.random.randn(n, n)\n",
    "\n",
    "z = FrankeFunction(x, y) + noise\n",
    "\n",
    "\n",
    "x, y, z = x.reshape(n**2, 1), y.reshape(n**2, 1), z.reshape(n**2, 1)\n",
    "X = DesignMatrix(x, y, p)\n",
    "reg = Polyfit()\n",
    "OLS_beta, OLS_fit = reg.fit(X, z, 'OLS')\n",
    "\n",
    "\n"
   ]
  },
  {
   "cell_type": "code",
   "execution_count": 2,
   "metadata": {},
   "outputs": [
    {
     "name": "stdout",
     "output_type": "stream",
     "text": [
      "0.8891073832052814 0.010855159402157553\n"
     ]
    }
   ],
   "source": [
    "from Reg_class import R2, MSE\n",
    "print (R2(z, OLS_fit), MSE(z, OLS_fit))"
   ]
  },
  {
   "cell_type": "markdown",
   "metadata": {},
   "source": [
    "The variance of the regression coefficients are in the lecture notes shown to be \n",
    "$$\n",
    "\\text{Var}(\\beta_i) = \\sigma^2 \\sqrt{[(\\pmb{X}^T\\pmb{X}^{-1})]_{ii}},\n",
    "$$\n",
    "and  variance of the input data is estimated by \n",
    "$$\n",
    "\\sigma^2 = \\frac{1}{n-p-1}\\sum_i (z_i - \\tilde{z}_i)^2\n",
    "$$"
   ]
  },
  {
   "cell_type": "code",
   "execution_count": 3,
   "metadata": {},
   "outputs": [],
   "source": [
    "sigma2 = np.sum((z - OLS_fit)**2)/(n-p-1)\n",
    "sigma2_beta = sigma2*np.sqrt(np.diag(np.linalg.inv(np.matmul(X.T, X))))\n",
    "conf_int = 1.96*np.sqrt(sigma2_beta).reshape(P, 1)"
   ]
  },
  {
   "cell_type": "code",
   "execution_count": 4,
   "metadata": {},
   "outputs": [
    {
     "data": {
      "image/png": "[encoded data removed]",
      "text/plain": [
       "<Figure size 432x288 with 1 Axes>"
      ]
     },
     "metadata": {
      "needs_background": "light"
     },
     "output_type": "display_data"
    }
   ],
   "source": [
    "a = np.arange((p+1)**2 +1)[1:]\n",
    "plt.errorbar(a, OLS_beta, yerr=2*conf_int, fmt='k.', ecolor='r')\n",
    "plt.xlabel('Coefficient number')\n",
    "plt.ylabel('Coefficient size')\n",
    "plt.show()"
   ]
  }
 ],
 "metadata": {
  "kernelspec": {
   "display_name": "Python 3",
   "language": "python",
   "name": "python3"
  },
  "language_info": {
   "codemirror_mode": {
    "name": "ipython",
    "version": 3
   },
   "file_extension": ".py",
   "mimetype": "text/x-python",
   "name": "python",
   "nbconvert_exporter": "python",
   "pygments_lexer": "ipython3",
   "version": "3.7.1"
  }
 },
 "nbformat": 4,
 "nbformat_minor": 2
}
