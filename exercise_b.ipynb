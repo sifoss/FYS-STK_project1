{
 "cells": [
  {
   "cell_type": "code",
   "execution_count": 1,
   "metadata": {},
   "outputs": [],
   "source": [
    "import numpy as np, matplotlib.pyplot as plt\n",
    "from Reg_class import FrankeFunction\n",
    "\n",
    "n = 50\n",
    "p = 5\n",
    "k = 5\n",
    "x = np.sort(np.random.rand(n))\n",
    "y = np.sort(np.random.rand(n))\n",
    "\n",
    "x, y = np.meshgrid(x, y)\n",
    "\n",
    "noise = 0.1*np.random.randn(n, n)\n",
    "\n",
    "z = FrankeFunction(x, y) + noise\n",
    "\n",
    "\n",
    "x_, y_, z_ = x.reshape(n**2, 1), y.reshape(n**2, 1), z.reshape(n**2, 1)\n",
    "\n"
   ]
  },
  {
   "cell_type": "markdown",
   "metadata": {},
   "source": [
    "## Fitting with train-test-split "
   ]
  },
  {
   "cell_type": "code",
   "execution_count": 5,
   "metadata": {},
   "outputs": [
    {
     "name": "stdout",
     "output_type": "stream",
     "text": [
      "0.011135006638752899 0.8849253911997923\n"
     ]
    }
   ],
   "source": [
    "from Reg_class import Polyfit, train_test_split, MSE, R2, DesignMatrix\n",
    "\n",
    "\n",
    "train, test = train_test_split(x_, y_, z_)\n",
    "x, y, z = train\n",
    "x_test, y_test, z_test = test\n",
    "X_train = DesignMatrix(x, y, p)\n",
    "X_test = DesignMatrix(x_test, y_test, p)\n",
    "z_test = test[-1]\n",
    "reg = Polyfit()\n",
    "reg.fit(X_train, z, 'OLS')\n",
    "z_pred = reg.predict(X_test)\n",
    "\n",
    "print (MSE(z_test, z_pred), R2(z_test, z_pred))\n",
    "\n"
   ]
  },
  {
   "cell_type": "code",
   "execution_count": 2,
   "metadata": {},
   "outputs": [
    {
     "name": "stdout",
     "output_type": "stream",
     "text": [
      "0.890538223165424 0.011293525178112551\n"
     ]
    }
   ],
   "source": [
    "\n",
    "from sklearn.model_selection import KFold\n",
    "\n",
    "train, test = train_test_split(x_, y_, z_)\n",
    "x, y, z = train\n",
    "kfold = KFold(n_splits = k,shuffle=True,random_state=5)\n",
    "\n",
    "mse = np.empty(k)\n",
    "r2 = np.empty(k)\n",
    "j = 0\n",
    "reg = Polyfit()\n",
    "\n",
    "for train_inds,test_inds in kfold.split(x):\n",
    "    Xtrain = DesignMatrix(x[train_inds], y[train_inds], p)\n",
    "    reg.fit(Xtrain, z[train_inds], 'OLS')\n",
    "    Xtest = DesignMatrix(x[test_inds], y[test_inds], p)\n",
    "    z_test = z[test_inds]\n",
    "    z_pred = reg.predict(Xtest)\n",
    "    mse[j] = MSE(z_test, z_pred)\n",
    "    r2[j] = R2(z_test, z_pred)\n",
    "    j += 1\n",
    "print (np.mean(r2), np.mean(mse))\n",
    "\n"
   ]
  },
  {
   "cell_type": "code",
   "execution_count": 10,
   "metadata": {},
   "outputs": [],
   "source": [
    "pmax = 15\n",
    "babs = np.zeros(pmax)\n",
    "z_test = test[-1]\n",
    "for i in range(pmax):\n",
    "    X_train = DesignMatrix(x, y, i+1)\n",
    "    betas = reg.fit(X_train, z, 'OLS')[0]\n",
    "    babs[i] = np.mean(np.abs(betas))\n",
    "\n",
    "P_arr = np.arange(1, pmax+1)\n",
    "\n",
    "\n",
    "    "
   ]
  },
  {
   "cell_type": "code",
   "execution_count": 15,
   "metadata": {},
   "outputs": [
    {
     "data": {
      "image/png": "[encoded data removed]",
      "text/plain": [
       "<Figure size 432x288 with 1 Axes>"
      ]
     },
     "metadata": {
      "needs_background": "light"
     },
     "output_type": "display_data"
    }
   ],
   "source": [
    "plt.plot(P_arr, np.log(babs))\n",
    "plt.xlabel('p')\n",
    "plt.ylabel(r'$\\ln(\\bar{\\beta})$')\n",
    "plt.title('size of regression coefficients for different orders')\n",
    "plt.savefig('orderOLS.pdf')\n",
    "plt.show()"
   ]
  },
  {
   "cell_type": "code",
   "execution_count": null,
   "metadata": {},
   "outputs": [],
   "source": []
  }
 ],
 "metadata": {
  "kernelspec": {
   "display_name": "Python 3",
   "language": "python",
   "name": "python3"
  },
  "language_info": {
   "codemirror_mode": {
    "name": "ipython",
    "version": 3
   },
   "file_extension": ".py",
   "mimetype": "text/x-python",
   "name": "python",
   "nbconvert_exporter": "python",
   "pygments_lexer": "ipython3",
   "version": "3.7.1"
  }
 },
 "nbformat": 4,
 "nbformat_minor": 2
}
